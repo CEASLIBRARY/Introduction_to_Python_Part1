{
 "cells": [
  {
   "cell_type": "markdown",
   "metadata": {},
   "source": [
    "# Exercise 1\n",
    "#### Tip Calculator!!\n",
    "Cost of meal = 54.76\n",
    "<br>\n",
    "Tax = 7.85%\n",
    "<br>\n",
    "Tip = 15%\n",
    "<br>\n",
    "Find tax amount, cost after tax, tip amount, and total cost"
   ]
  },
  {
   "cell_type": "code",
   "execution_count": 1,
   "metadata": {},
   "outputs": [
    {
     "name": "stdout",
     "output_type": "stream",
     "text": [
      "My original meal cost is 54.76\n",
      "Tax amount is:  4.29866\n",
      "Cost after tax is:  59.058659999999996\n",
      "Tip amount is:  8.858799\n",
      "Total cost is:  67.917459\n"
     ]
    }
   ],
   "source": [
    "# Create a variable for cost of meal, tax and tip and assign their values\n",
    "# Note that percentage is not captured in programming languages. Divide by 100 instead. \n",
    "cost_of_meal = 54.76\n",
    "tax = 0.0785\n",
    "tip = 0.15\n",
    "\n",
    "# Calculate tax amount by creating a variable for it and assign it to a formula using the variables for cost of meal and tax\n",
    "tax_amount = tax * cost_of_meal\n",
    "\n",
    "# Calculate cost after tax\n",
    "cost_after_tax = cost_of_meal + tax_amount\n",
    "\n",
    "# Calculate tip amount\n",
    "# Hint: Calculate the tip amount the cost after tax\n",
    "tip_amount = 0.15 * cost_after_tax\n",
    "\n",
    "# Calculate total amount\n",
    "total = cost_after_tax + tip_amount\n",
    "\n",
    "print('My original meal cost is', cost_of_meal)\n",
    "\n",
    "# Follow the example above and print the tax amount\n",
    "print('Tax amount is: ', tax_amount)\n",
    "\n",
    "# Print the cost after tax\n",
    "print('Cost after tax is: ', cost_after_tax)\n",
    "\n",
    "# Print the tip amount\n",
    "print('Tip amount is: ', tip_amount)\n",
    "\n",
    "# Print the total cost of the meal\n",
    "print('Total cost is: ', total)"
   ]
  },
  {
   "cell_type": "markdown",
   "metadata": {},
   "source": [
    "# Exercise 2\n",
    "#### UC 6+2 program\n",
    "Write a program to generate and print the UC 6+2 ID for a given first & last name.\n",
    "1. Take the user's first name and last name and store them in two different variables.\n",
    "2. If the length of the last name is >=6, take the first 6 letters from the last name & first and last letters from the first name to form the six plus two.\n",
    "3. If the length of the last name is <6, take all of the last name, pick first letters of first name to make up for the length the last name & first and last letters from the remainder of the first name\n",
    "4. Print out the six plus two in lower case"
   ]
  },
  {
   "cell_type": "code",
   "execution_count": 2,
   "metadata": {},
   "outputs": [
    {
     "name": "stdout",
     "output_type": "stream",
     "text": [
      "Give your First Name: Joshua\n",
      "Give your Last Name: Anoint\n",
      "anointja\n"
     ]
    }
   ],
   "source": [
    "# Take input for user's first name and store in a variable\n",
    "first_name = input(\"Give your First Name: \") \n",
    "\n",
    "# Take input for user's last name and store in a variable\n",
    "last_name = input(\"Give your Last Name: \") \n",
    "\n",
    "# Use the appropriate If and else Decision Block with a condition that compares the Length of the Last name to 6\n",
    "# In the If and else Decision Block store the six plus two in a variable\n",
    "# Use the Tips below in your If and else Decision Block\n",
    "if len(last_name)>=6:\n",
    "   sixplus2 = last_name[0:6] + first_name[0] + first_name[-1]\n",
    "else:\n",
    "   sixplus2 = last_name + first_name[0:(6-len(last_name)+1)] + first_name[-1]\n",
    "\n",
    "# Print out the six plus two in lower case\n",
    "print(sixplus2.lower())\n",
    "\n",
    "\n",
    "# Tips (Replace the portions marked with ?)\n",
    "# ********************************************\n",
    "# For length of the last name is >=6, sixplus2 = last_name[0:?] + first_name[0] + first_name[?]\n",
    "# For length of the last name is <6, sixplus2 = last_name + first_name[0:(6-len(?)+1)] + first_name[?]"
   ]
  },
  {
   "cell_type": "markdown",
   "metadata": {},
   "source": [
    "# Exercise 3\n",
    "#### DNA to RNA Transcription\n",
    "The process of converting DNA to RNA<br>\n",
    "G->C<br>\n",
    "C->G<br>\n",
    "A->T<br>\n",
    "T->A<br>\n",
    "Example:<br>\n",
    "**Input:** GCTAGCCTACG<br>\n",
    "**Output:** CGATCGGATGC\n",
    "\n",
    "Write a program that takes a DNA string input from a user and transcripes the string into an RNA string using rules above\n",
    "* Your program should be case insensitive\n",
    "* The program should exit if any other letter aside G,C, A nad T is encountered in the DNA string\n",
    "* Your program should output the RNA string in upper cases"
   ]
  },
  {
   "cell_type": "code",
   "execution_count": 3,
   "metadata": {},
   "outputs": [
    {
     "name": "stdout",
     "output_type": "stream",
     "text": [
      "Give the input DNA Code : gctacgaa\n",
      "Done with Translation\n",
      "DNA output:  CGATGCTT\n"
     ]
    }
   ],
   "source": [
    "# Take input for DNA string and store in a variable DNA_string\n",
    "DNA_string = input(\"Give the input DNA Code : \")\n",
    "\n",
    "# Intialize the RNA output as an empty string\n",
    "RNA_string = ''\n",
    "\n",
    "# Use \"for\" loop to traverse the DNA string. Use \"If..elif..else\" sub block to check and concactenate the appropriate letter \n",
    "# to RNA_string.\n",
    "# Use \"else\" block in the \"If..elif..else\" sub block to output an error message and break if a diffrent letter is encountered\n",
    "\n",
    "for i in DNA_string.upper():\n",
    "    # the upper() method is used to make our program case insensitive\n",
    "    if i == 'G':\n",
    "        RNA_string = RNA_string + 'C'\n",
    "    # Continue the \"elif\" blocks of the \"If..elif..else\" block for the other letters\n",
    "    elif i == 'C':\n",
    "        RNA_string = RNA_string + 'G'\n",
    "    elif i == 'A':\n",
    "        RNA_string = RNA_string + 'T'\n",
    "    elif i == 'T':\n",
    "        RNA_string = RNA_string + 'A'\n",
    "    # Complete the \"If..elif..else\" block with \"else\" block for an error message assigned to RNA_string \n",
    "    # break out of the loop    \n",
    "    else: \n",
    "        RNA_string = 'Incorrect DNA string'\n",
    "        break\n",
    "else:\n",
    "    # This else is attached to the for loop\n",
    "    print('Done with Translation')\n",
    "\n",
    "print('DNA output: ', RNA_string)"
   ]
  }
 ],
 "metadata": {
  "kernelspec": {
   "display_name": "Python 3",
   "language": "python",
   "name": "python3"
  },
  "language_info": {
   "codemirror_mode": {
    "name": "ipython",
    "version": 3
   },
   "file_extension": ".py",
   "mimetype": "text/x-python",
   "name": "python",
   "nbconvert_exporter": "python",
   "pygments_lexer": "ipython3",
   "version": "3.6.5"
  }
 },
 "nbformat": 4,
 "nbformat_minor": 2
}
